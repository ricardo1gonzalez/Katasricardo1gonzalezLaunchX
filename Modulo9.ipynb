{
 "cells": [
  {
   "cell_type": "markdown",
   "metadata": {},
   "source": [
    "Primer ejercicio:"
   ]
  },
  {
   "cell_type": "code",
   "execution_count": 4,
   "metadata": {},
   "outputs": [
    {
     "name": "stdout",
     "output_type": "stream",
     "text": [
      "Reporte de combustible:\n",
      "    Promedio total: 78.33333333333333%\n",
      "    Tanque principal: 80%\n",
      "    Tanque externo: 70%\n",
      "    Tanque de hydrogeno: 85% \n",
      "    \n"
     ]
    }
   ],
   "source": [
    "def generaReporte(tanque1, tanque2, tanque3):\n",
    "    return f\"\"\"Reporte de combustible:\n",
    "    Promedio total: {promedio([tanque1, tanque2, tanque3])}%\n",
    "    Tanque principal: {tanque1}%\n",
    "    Tanque externo: {tanque2}%\n",
    "    Tanque de hydrogeno: {tanque3}% \n",
    "    \"\"\"\n",
    "\n",
    "def promedio(values):\n",
    "    total = sum(values)\n",
    "    num = len(values)\n",
    "    return total / num\n",
    "\n",
    "print(generaReporte(80, 70, 85))\n"
   ]
  },
  {
   "cell_type": "markdown",
   "metadata": {},
   "source": [
    "Segundo ejercicio:"
   ]
  },
  {
   "cell_type": "code",
   "execution_count": 5,
   "metadata": {},
   "outputs": [
    {
     "name": "stdout",
     "output_type": "stream",
     "text": [
      "\n",
      "    Misión hacia Luna\n",
      "    Tiempo total de viaje: 74 minutos\n",
      "    Total de combustible restante: 500000\n",
      "    tanque --> principal 300000 galones restantes \n",
      "tanque --> externo 200000 galones restantes \n",
      "\n"
     ]
    }
   ],
   "source": [
    "def reporteMision(destino, *minutos, **reservasCombustible):\n",
    "    reportePrincipal = f\"\"\"\n",
    "    Misión hacia {destino}\n",
    "    Tiempo total de viaje: {sum(minutos)} minutos\n",
    "    Total de combustible restante: {sum(reservasCombustible.values())}\n",
    "    \"\"\"\n",
    "    for tanque, galones in reservasCombustible.items():\n",
    "        reportePrincipal += f\"tanque --> {tanque} {galones} galones restantes \\n\"\n",
    "    return reportePrincipal\n",
    "\n",
    "print(reporteMision(\"Luna\", 8, 11, 55, principal=300000, externo=200000))"
   ]
  }
 ],
 "metadata": {
  "interpreter": {
   "hash": "5949c86782cab2981deef5f1e507f581e2f7b6f6af33ecd6487ff9ce5e3f2c3b"
  },
  "kernelspec": {
   "display_name": "Python 3.9.5 64-bit",
   "language": "python",
   "name": "python3"
  },
  "language_info": {
   "codemirror_mode": {
    "name": "ipython",
    "version": 3
   },
   "file_extension": ".py",
   "mimetype": "text/x-python",
   "name": "python",
   "nbconvert_exporter": "python",
   "pygments_lexer": "ipython3",
   "version": "3.9.5"
  },
  "orig_nbformat": 4
 },
 "nbformat": 4,
 "nbformat_minor": 2
}
