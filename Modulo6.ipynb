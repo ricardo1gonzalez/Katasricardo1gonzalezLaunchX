{
 "cells": [
  {
   "cell_type": "markdown",
   "metadata": {},
   "source": [
    "Primer ejercicio:"
   ]
  },
  {
   "cell_type": "code",
   "execution_count": 5,
   "metadata": {},
   "outputs": [
    {
     "name": "stdout",
     "output_type": "stream",
     "text": [
      "Hay  8  planetas\n",
      "Pluto  es el ultimo planeta\n"
     ]
    }
   ],
   "source": [
    "# Creamos la lista\n",
    "\n",
    "planets = ['Mercury', 'Venus', 'Earth', 'Mars', 'Jupiter', 'Saturn', 'Uranus', 'Neptune']\n",
    "print('Hay ', len(planets), ' planetas')\n",
    "\n",
    "planets.append('Pluto')\n",
    "print(planets[-1], ' es el ultimo planeta')"
   ]
  },
  {
   "cell_type": "markdown",
   "metadata": {},
   "source": [
    "Segundo ejercicio:"
   ]
  },
  {
   "cell_type": "code",
   "execution_count": 6,
   "metadata": {},
   "outputs": [
    {
     "name": "stdout",
     "output_type": "stream",
     "text": [
      "Aqui estan los planetas más cercanos al sol: Mars\n",
      "['Mercury', 'Venus', 'Earth']\n",
      "Aqui estan los planetas más lejanos al sol:Mars\n",
      "['Jupiter', 'Saturn', 'Neptune']\n"
     ]
    }
   ],
   "source": [
    "# Lista de planetas\n",
    "planets = ['Mercury', 'Venus', 'Earth', 'Mars', 'Jupiter', 'Saturn', 'Neptune']\n",
    "\n",
    "# Solicitamos el nombre de un planeta *Pista:  input()*\n",
    "user_planet = input('Ingresa el nombre de un planeta iniciando con mayúscula')\n",
    "\n",
    "# Busca el planeta en la lista\n",
    "pIndice = planets.index(user_planet)\n",
    "\n",
    "# Muestra los planetas más cercanos al sol\n",
    "print('Aqui estan los planetas más cercanos al sol: ' + user_planet)\n",
    "print(planets[0:pIndice])\n",
    "\n",
    "# Muestra los planetas más lejanos al sol\n",
    "print('Aqui estan los planetas más lejanos al sol:' + user_planet)\n",
    "print(planets[pIndice + 1:])"
   ]
  }
 ],
 "metadata": {
  "interpreter": {
   "hash": "5949c86782cab2981deef5f1e507f581e2f7b6f6af33ecd6487ff9ce5e3f2c3b"
  },
  "kernelspec": {
   "display_name": "Python 3.9.5 64-bit",
   "language": "python",
   "name": "python3"
  },
  "language_info": {
   "codemirror_mode": {
    "name": "ipython",
    "version": 3
   },
   "file_extension": ".py",
   "mimetype": "text/x-python",
   "name": "python",
   "nbconvert_exporter": "python",
   "pygments_lexer": "ipython3",
   "version": "3.9.5"
  },
  "orig_nbformat": 4
 },
 "nbformat": 4,
 "nbformat_minor": 2
}
